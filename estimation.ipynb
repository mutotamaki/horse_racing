{
 "cells": [
  {
   "cell_type": "code",
   "execution_count": 4,
   "metadata": {},
   "outputs": [],
   "source": [
    "import lightgbm as lgb\n",
    "import pandas as pd\n",
    "from sklearn.metrics import roc_curve,roc_auc_score\n",
    "import matplotlib.pyplot  as plt\n",
    "from sklearn.ensemble import RandomForestClassifier\n",
    "import numpy as np"
   ]
  },
  {
   "cell_type": "code",
   "execution_count": 5,
   "metadata": {},
   "outputs": [],
   "source": [
    "def split_date(df, test_size):\n",
    "    sorted_id_list = df.sort_values('日付').index.unique()\n",
    "    train_id_list = sorted_id_list[:round(len(sorted_id_list) * (1-test_size))]\n",
    "    test_id_list = sorted_id_list[round(len(sorted_id_list) * (1-test_size)):]\n",
    "    train = df.loc[train_id_list]\n",
    "    test = df.loc[test_id_list]\n",
    "    return train, test"
   ]
  },
  {
   "cell_type": "code",
   "execution_count": 6,
   "metadata": {},
   "outputs": [],
   "source": [
    "# データの読み込み\n",
    "data = pd.read_csv('encoded/encoded_data.csv')"
   ]
  },
  {
   "cell_type": "code",
   "execution_count": 7,
   "metadata": {},
   "outputs": [],
   "source": [
    "#着順を変換\n",
    "data['着順'] = data['着順'].map(lambda x: 1 if x<4 else 0)"
   ]
  },
  {
   "cell_type": "code",
   "execution_count": 8,
   "metadata": {},
   "outputs": [],
   "source": [
    "# 特徴量とターゲットの分割\n",
    "train, test = split_date(data, 0.3)\n",
    "X_train = train.drop(['着順','オッズ','人気','上がり','走破時間','通過順'], axis=1)\n",
    "y_train = train['着順']\n",
    "X_test = test.drop(['着順','オッズ','人気','上がり','走破時間','通過順'], axis=1)\n",
    "y_test = test['着順']"
   ]
  },
  {
   "cell_type": "code",
   "execution_count": 9,
   "metadata": {},
   "outputs": [
    {
     "name": "stdout",
     "output_type": "stream",
     "text": [
      "[LightGBM] [Warning] min_data_in_leaf is set=190, min_child_samples=20 will be ignored. Current value: min_data_in_leaf=190\n",
      "[LightGBM] [Warning] min_data_in_leaf is set=190, min_child_samples=20 will be ignored. Current value: min_data_in_leaf=190\n",
      "[LightGBM] [Info] Number of positive: 7040, number of negative: 25571\n",
      "[LightGBM] [Info] Auto-choosing row-wise multi-threading, the overhead of testing was 0.003495 seconds.\n",
      "You can set `force_row_wise=true` to remove the overhead.\n",
      "And if memory is not enough, you can set `force_col_wise=true`.\n",
      "[LightGBM] [Info] Total Bins 8915\n",
      "[LightGBM] [Info] Number of data points in the train set: 32611, number of used features: 112\n",
      "[LightGBM] [Info] [binary:BoostFromScore]: pavg=0.500000 -> initscore=-0.000000\n",
      "[LightGBM] [Info] Start training from score -0.000000\n",
      "[LightGBM] [Warning] min_data_in_leaf is set=190, min_child_samples=20 will be ignored. Current value: min_data_in_leaf=190\n",
      "[LightGBM] [Warning] min_data_in_leaf is set=190, min_child_samples=20 will be ignored. Current value: min_data_in_leaf=190\n"
     ]
    }
   ],
   "source": [
    "# LightGBMデータセットの作成\n",
    "train_data = lgb.Dataset(X_train, label=y_train)\n",
    "valid_data = lgb.Dataset(X_test, label=y_test)\n",
    "\n",
    "params={\n",
    "    'num_leaves':32,\n",
    "    'min_data_in_leaf':190,\n",
    "    'class_weight':'balanced',\n",
    "    'random_state':100\n",
    "}\n",
    "\n",
    "lgb_clf = lgb.LGBMClassifier(**params)\n",
    "lgb_clf.fit(X_train, y_train)\n",
    "y_pred_train = lgb_clf.predict_proba(X_train)[:,1]\n",
    "y_pred = lgb_clf.predict_proba(X_test)[:,1]"
   ]
  },
  {
   "cell_type": "code",
   "execution_count": 10,
   "metadata": {},
   "outputs": [
    {
     "name": "stdout",
     "output_type": "stream",
     "text": [
      "0.7738997469532165\n"
     ]
    }
   ],
   "source": [
    "#モデルの評価\n",
    "#print(roc_auc_score(y_train,y_pred_train))\n",
    "print(roc_auc_score(y_test,y_pred))\n",
    "total_cases = len(y_test)  # テストデータの総数\n",
    "TP = (y_test == 1) & (y_pred >= 0.5)  # True positives\n",
    "FP = (y_test == 0) & (y_pred >= 0.5)  # False positives\n",
    "TN = (y_test == 0) & (y_pred < 0.5)  # True negatives\n",
    "FN = (y_test == 1) & (y_pred < 0.5)  # False negatives\n",
    "\n",
    "TP_count = sum(TP)\n",
    "FP_count = sum(FP)\n",
    "TN_count = sum(TN)\n",
    "FN_count = sum(FN)\n",
    "\n",
    "accuracy_TP = TP_count / total_cases * 100\n",
    "misclassification_rate_FP = FP_count / total_cases * 100\n",
    "accuracy_TN = TN_count / total_cases * 100\n",
    "misclassification_rate_FN = FN_count / total_cases * 100"
   ]
  },
  {
   "cell_type": "code",
   "execution_count": 11,
   "metadata": {},
   "outputs": [
    {
     "name": "stdout",
     "output_type": "stream",
     "text": [
      "Total cases: 13976\n",
      "True positives: 1791 ( 12.81 %)\n",
      "False positives: 2305 ( 16.49 %)\n",
      "True negatives: 8559 ( 61.24 %)\n",
      "False negatives: 1321 ( 9.45 %)\n"
     ]
    }
   ],
   "source": [
    "print(\"Total cases:\", total_cases)\n",
    "print(\"True positives:\", TP_count, \"(\", \"{:.2f}\".format(accuracy_TP), \"%)\")\n",
    "print(\"False positives:\", FP_count, \"(\", \"{:.2f}\".format(misclassification_rate_FP), \"%)\")\n",
    "print(\"True negatives:\", TN_count, \"(\", \"{:.2f}\".format(accuracy_TN), \"%)\")\n",
    "print(\"False negatives:\", FN_count, \"(\", \"{:.2f}\".format(misclassification_rate_FN), \"%)\")\n",
    "\n",
    "# True Positives (TP): 実際に1で、予測も1だったもの\n",
    "# False Positives (FP): 実際は0だが、予測では1だったもの\n",
    "# True Negatives (TN): 実際に0で、予測も0だったもの\n",
    "# False Negatives (FN): 実際は1だが、予測では0だったもの"
   ]
  },
  {
   "cell_type": "code",
   "execution_count": 12,
   "metadata": {},
   "outputs": [],
   "source": [
    "# モデルの保存\n",
    "lgb_clf.booster_.save_model('model/model.txt')\n",
    "\n",
    "# 特徴量の重要度を取得\n",
    "importance = lgb_clf.feature_importances_\n",
    "\n",
    "# 特徴量の名前を取得\n",
    "feature_names = X_train.columns"
   ]
  },
  {
   "cell_type": "code",
   "execution_count": 14,
   "metadata": {},
   "outputs": [],
   "source": [
    "pd.set_option('display.max_rows', 150) # 最大100行表示"
   ]
  },
  {
   "cell_type": "code",
   "execution_count": 17,
   "metadata": {},
   "outputs": [
    {
     "name": "stdout",
     "output_type": "stream",
     "text": [
      " 1) 騎手の勝率                          161.000000\n",
      " 2) 着順1                            129.000000\n",
      " 3) オッズ1                           122.000000\n",
      " 4) 日付1                            111.000000\n",
      " 5) 日付差                            99.000000\n",
      " 6) 上がり1                           76.000000\n",
      " 7) 馬                              64.000000\n",
      " 8) race_id                        61.000000\n",
      " 9) オッズ2                           57.000000\n",
      "10) 走破時間1                          56.000000\n",
      "11) 開催                             51.000000\n",
      "12) 馬番                             51.000000\n",
      "13) オッズ3                           51.000000\n",
      "14) 日付2                            50.000000\n",
      "15) レース名                           48.000000\n",
      "16) 距離差                            47.000000\n",
      "17) 走破時間5                          47.000000\n",
      "18) 騎手                             46.000000\n",
      "19) 体重                             45.000000\n",
      "20) 馬番1                            45.000000\n",
      "21) クラス                            44.000000\n",
      "22) 日付差1                           43.000000\n",
      "23) 上がり2                           43.000000\n",
      "24) 日付                             41.000000\n",
      "25) 上がり3                           40.000000\n",
      "26) 着順2                            39.000000\n",
      "27) 齢                              38.000000\n",
      "28) 日付3                            38.000000\n",
      "29) 上がり4                           37.000000\n",
      "30) 騎手2                            37.000000\n",
      "31) 通過順4                           36.000000\n",
      "32) オッズ5                           35.000000\n",
      "33) 通過順1                           35.000000\n",
      "34) 走破時間2                          33.000000\n",
      "35) 騎手1                            32.000000\n",
      "36) 走破時間3                          32.000000\n",
      "37) 通過順5                           31.000000\n",
      "38) 通過順3                           30.000000\n",
      "39) 走破時間4                          30.000000\n",
      "40) 距離                             30.000000\n",
      "41) 着順3                            30.000000\n",
      "42) 通過順2                           29.000000\n",
      "43) クラス1                           29.000000\n",
      "44) オッズ4                           29.000000\n",
      "45) 上がり5                           29.000000\n",
      "46) 体重1                            27.000000\n",
      "47) 体重4                            27.000000\n",
      "48) 体重変化2                          26.000000\n",
      "49) 体重変化5                          25.000000\n",
      "50) 体重変化1                          25.000000\n",
      "51) 体重5                            24.000000\n",
      "52) 体重変化4                          24.000000\n",
      "53) 日付差3                           24.000000\n",
      "54) 体重2                            24.000000\n",
      "55) 日付差2                           22.000000\n",
      "56) 馬番3                            21.000000\n",
      "57) 馬番5                            21.000000\n",
      "58) 体重変化                           20.000000\n",
      "59) 騎手4                            19.000000\n",
      "60) 場名                             19.000000\n",
      "61) 平均斤量                           18.000000\n",
      "62) 馬番2                            18.000000\n",
      "63) 着順4                            18.000000\n",
      "64) 着順5                            18.000000\n",
      "65) 斤量2                            17.000000\n",
      "66) 日付4                            17.000000\n",
      "67) 騎手3                            17.000000\n",
      "68) クラス5                           15.000000\n",
      "69) 斤量5                            14.000000\n",
      "70) 騎手5                            14.000000\n",
      "71) 体重変化3                          14.000000\n",
      "72) 斤量                             14.000000\n",
      "73) クラス4                           14.000000\n",
      "74) 体重3                            13.000000\n",
      "75) 日付5                            13.000000\n",
      "76) 距離差2                           13.000000\n",
      "77) 芝・ダート                          12.000000\n",
      "78) 距離差1                           12.000000\n",
      "79) 斤量1                            12.000000\n",
      "80) 馬場2                            11.000000\n",
      "81) 天気1                            11.000000\n",
      "82) 斤量3                            10.000000\n",
      "83) 馬番4                            9.000000\n",
      "84) 天気                             8.000000\n",
      "85) 日付差4                           8.000000\n",
      "86) 斤量4                            8.000000\n",
      "87) クラス3                           8.000000\n",
      "88) 距離1                            8.000000\n",
      "89) クラス2                           7.000000\n",
      "90) 馬場4                            7.000000\n",
      "91) 馬場3                            7.000000\n",
      "92) 馬場5                            6.000000\n",
      "93) 性                              6.000000\n",
      "94) 芝・ダート1                         6.000000\n",
      "95) 距離差4                           6.000000\n",
      "96) 馬場1                            6.000000\n",
      "97) 天気3                            5.000000\n",
      "98) 芝・ダート4                         5.000000\n",
      "99) 馬場                             5.000000\n",
      "100) 天気4                            4.000000\n",
      "101) 天気5                            4.000000\n",
      "102) 芝・ダート3                         4.000000\n",
      "103) 天気2                            4.000000\n",
      "104) 距離差3                           4.000000\n",
      "105) 芝・ダート2                         4.000000\n",
      "106) 回り                             3.000000\n",
      "107) 距離2                            2.000000\n",
      "108) 距離3                            2.000000\n",
      "109) 距離5                            1.000000\n",
      "110) 芝・ダート5                         1.000000\n",
      "111) 距離4                            1.000000\n",
      "112) 場id                            1.000000\n"
     ]
    }
   ],
   "source": [
    "# 特徴量の重要度を降順にソート\n",
    "indices = np.argsort(importance)[::-1]\n",
    "\n",
    "# 特徴量の重要度を降順に表示\n",
    "for f in range(X_train.shape[1]):\n",
    "    print(\"%2d) %-*s %f\" % (f + 1, 30, feature_names[indices[f]], importance[indices[f]]))"
   ]
  }
 ],
 "metadata": {
  "kernelspec": {
   "display_name": "Python 3",
   "language": "python",
   "name": "python3"
  },
  "language_info": {
   "codemirror_mode": {
    "name": "ipython",
    "version": 3
   },
   "file_extension": ".py",
   "mimetype": "text/x-python",
   "name": "python",
   "nbconvert_exporter": "python",
   "pygments_lexer": "ipython3",
   "version": "3.9.6"
  }
 },
 "nbformat": 4,
 "nbformat_minor": 2
}
